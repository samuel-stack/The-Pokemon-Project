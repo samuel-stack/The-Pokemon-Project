{
 "cells": [
  {
   "cell_type": "markdown",
   "metadata": {},
   "source": [
    "# Type Investigations\n",
    "-------\n",
    "\n",
    "In this notebook I am going to engineer the several features I'll be using to summarize the strengths and weaknesses of current pokemon and then create those same calculations for type-pairings that do not exist.\n"
   ]
  },
  {
   "cell_type": "code",
   "execution_count": 1,
   "metadata": {
    "collapsed": true
   },
   "outputs": [],
   "source": [
    "import pandas as pd\n",
    "import seaborn as sns\n",
    "import matplotlib.pyplot as plt\n",
    "%matplotlib inline"
   ]
  },
  {
   "cell_type": "code",
   "execution_count": null,
   "metadata": {
    "collapsed": true
   },
   "outputs": [],
   "source": []
  },
  {
   "cell_type": "code",
   "execution_count": 3,
   "metadata": {},
   "outputs": [],
   "source": [
    "poke_pivot = pd.read_csv('Data/poke_pivot.csv',       index_col = 0) \n",
    "advantages = pd.read_csv('Data/advantages.csv',       index_col = 0)\n",
    "pokemon    = pd.read_csv('Data/pokedex_formal_2.csv', index_col = 0)"
   ]
  },
  {
   "cell_type": "code",
   "execution_count": null,
   "metadata": {
    "collapsed": true
   },
   "outputs": [],
   "source": []
  },
  {
   "cell_type": "markdown",
   "metadata": {},
   "source": [
    "**Offensive Advantages**\n",
    "   - Given a Pokemon with a combination of two types, which other types can this Pokemon potentially have an offensive advantage over given its move pool. (`Super Effective` attacks) \n",
    "   \n",
    "**Offensive Disadvantages**\n",
    "   - Given a Pokemon with a combination of two types, which other types can this Pokemon potentially have an offensive disadvantage over given its move pool. (`Not Very Effective` attack or `Doesn't Affect`). \n",
    "   \n",
    "   \n",
    "**Offensive Power**   \n",
    "- Given that it is this Pokemon's turn to attack, this is the sum of this Pokemons _best_ offensive attack multipliers per each opposing single type.  \n",
    "   \n",
    "**Defensive Power**  \n",
    "   -  Given how damage is calculate across a defending Pokemon with two different types. What is the sum of damage distributed multipliers. There are 19 individual types, so if a Pokemon's type combination has no Defensive advantages or disadvantages and all attacks against do base damage, their Defensive Power will be 19 `(1.0 * 19)`. For this stat, lower is better.\n",
    "   \n",
    "**Defensive Advantages**\n",
    "   - Which types of attacks are `not very effective` against this Pokemon.\n",
    "   \n",
    "**Defensive Disadvantages**\n",
    "   - Which types of attacks are `super effective` against this Pokemon.\n",
    "   \n",
    "**Immunities**\n",
    "   - Which types of attacks will have no affect on this Pokemon. "
   ]
  },
  {
   "cell_type": "code",
   "execution_count": 4,
   "metadata": {},
   "outputs": [
    {
     "name": "stdout",
     "output_type": "stream",
     "text": [
      "Offensive Advantages    :  ['Bug', 'Grass', 'Ice', 'Steel', 'Fighting']\n",
      "Offensive Disadvantages :  ['Rock : 0.5']\n",
      "Offensive Power         :  22.5\n",
      "Defensive Power         :  18.5\n",
      "Defensive Advantages    :  ['Bug : 0.25', 'Fairy : 0.5', 'Fighting : 0.5', 'Fire : 0.5', 'Grass : 0.25', 'Steel : 0.5']\n",
      "Defensive Disadvantages :  ['Electric : 2.0', 'Rock : 4.0', 'Water : 2.0']\n",
      "Immunities              :  ['Ground']\n"
     ]
    },
    {
     "data": {
      "text/plain": [
       "{'count_def_adv': 6,\n",
       " 'count_def_dis': 3,\n",
       " 'count_off_adv': 5,\n",
       " 'count_off_dis': 1,\n",
       " 'def_adv': ['Bug : 0.25',\n",
       "  'Fairy : 0.5',\n",
       "  'Fighting : 0.5',\n",
       "  'Fire : 0.5',\n",
       "  'Grass : 0.25',\n",
       "  'Steel : 0.5'],\n",
       " 'def_disadv': ['Electric : 2.0', 'Rock : 4.0', 'Water : 2.0'],\n",
       " 'def_pwr': 18.5,\n",
       " 'imm_count': 1,\n",
       " 'immunities': ['Ground'],\n",
       " 'off_adv': ['Bug', 'Grass', 'Ice', 'Steel', 'Fighting'],\n",
       " 'off_disadv': ['Rock : 0.5'],\n",
       " 'off_pwr': 22.5}"
      ]
     },
     "execution_count": 4,
     "metadata": {},
     "output_type": "execute_result"
    }
   ],
   "source": [
    "# Take two types and return their Offensive and defensive abilities.\n",
    "# This one is for printing things out only\n",
    "def consequences(type1, type2, advantages = advantages):\n",
    "  \n",
    "    # Offensive Advantages\n",
    "    advantages_o = []\n",
    "    for types in [type1, type2]:\n",
    "        try:\n",
    "            [advantages_o.append(item) for item in list(advantages[advantages.T[types] == 2.0].index.values) if item not in advantages_o]\n",
    "        except:\n",
    "            pass\n",
    "    print('Offensive Advantages    : ',advantages_o)\n",
    "    \n",
    "    # Offensive Disadvantages\n",
    "    disadvantages_o = []\n",
    "    for def_type in advantages.columns:\n",
    "        sub_set = list(advantages.T[[type1, type2]].loc[def_type])\n",
    "        if (sub_set[0] < 1 and  sub_set[1] < 1):\n",
    "            max_weak = max(sub_set)\n",
    "            disadvantages_o.append('%s : %s' %(def_type,max_weak ))\n",
    "    if len( disadvantages_o) > 0:\n",
    "        print('Offensive Disadvantages : ',disadvantages_o)\n",
    "    else:\n",
    "        print('Offensive Disadvantages :  None')\n",
    "        \n",
    "    # Offensive Power\n",
    "    offensive_power = sum([a if a > b else b for a,b in advantages.loc[[type1, type2]].T.values])\n",
    "    print('Offensive Power         : ', offensive_power)\n",
    "    # Defensive Advantages, Disadvantages & Immunities\n",
    "    advantages_d = []\n",
    "    disadvantages_d = []\n",
    "    immunity = []\n",
    "    defensive_power = 0\n",
    "\n",
    "    # If statement for similar types\n",
    "    if type1 == type2:\n",
    "        defensive_power = advantages[type1].sum()\n",
    "        for name, value in zip(advantages[['Fire']].index, advantages[['Fire']].values) :\n",
    "            if value[0] == 0:\n",
    "                immunity.append(name)\n",
    "    \n",
    "            if 0 < value[0] < 1 :\n",
    "                advantages_d.append('%s : %s' %(name, value[0]))\n",
    "    \n",
    "            if value[0] > 1:\n",
    "                disadvantages_d.append('%s : %s' %(name, value[0]))\n",
    "        \n",
    "    else:\n",
    "        for types in advantages.columns:\n",
    "            row = advantages[[type1,type2]].loc[types]\n",
    "            defensive_power += row[0]*row[1]\n",
    "            if 0 < row[0]*row[1] < 1:\n",
    "                advantages_d.append('%s : %s' %(row.name, row[0]*row[1]))\n",
    "\n",
    "            if  row[0]*row[1] > 1:\n",
    "                disadvantages_d.append('%s : %s' %(row.name, row[0]*row[1]))\n",
    "\n",
    "            if row[0]*row[1] == 0:\n",
    "                immunity.append(row.name)\n",
    "    print('Defensive Power         : ',defensive_power )\n",
    "    print('Defensive Advantages    : ',advantages_d)\n",
    "    print('Defensive Disadvantages : ',disadvantages_d)\n",
    "    print('Immunities              : ',immunity)\n",
    "    \n",
    "    \n",
    "    # dictionary for storing info \n",
    "    capabilities = {'off_adv'       : advantages_o    , 'count_off_adv' : len(advantages_o),\n",
    "                    'off_disadv'    : disadvantages_o , 'count_off_dis' : len(disadvantages_o),\n",
    "                    'off_pwr'       : offensive_power ,\n",
    "                    'def_adv'       : advantages_d    , 'count_def_adv' : len(advantages_d),\n",
    "                    'def_disadv'    : disadvantages_d , 'count_def_dis' : len(disadvantages_d),\n",
    "                    'def_pwr'       : defensive_power ,\n",
    "                    'immunities'    : immunity        , 'imm_count'     : len(immunity)}\n",
    "    return capabilities\n",
    "consequences('Fire','Flying')"
   ]
  },
  {
   "cell_type": "markdown",
   "metadata": {},
   "source": [
    "**The below Version is for the most part the same function, but returns information as a dictionary which will be useful for appending columns to the existing pokemon dataframe.**"
   ]
  },
  {
   "cell_type": "code",
   "execution_count": 5,
   "metadata": {},
   "outputs": [
    {
     "data": {
      "text/plain": [
       "{'count_def_adv': 6,\n",
       " 'count_def_dis': 3,\n",
       " 'count_imm': 1,\n",
       " 'count_off_adv': 5,\n",
       " 'count_off_dis': 1,\n",
       " 'def_adv': ['Bug : 0.25',\n",
       "  'Fairy : 0.5',\n",
       "  'Fighting : 0.5',\n",
       "  'Fire : 0.5',\n",
       "  'Grass : 0.25',\n",
       "  'Steel : 0.5'],\n",
       " 'def_disadv': ['Electric : 2.0', 'Rock : 4.0', 'Water : 2.0'],\n",
       " 'def_pwr': 18.5,\n",
       " 'immunities': ['Ground'],\n",
       " 'off_adv': ['Bug', 'Grass', 'Ice', 'Steel', 'Fighting'],\n",
       " 'off_disadv': ['Rock : 0.5'],\n",
       " 'off_pwr': 22.5}"
      ]
     },
     "execution_count": 5,
     "metadata": {},
     "output_type": "execute_result"
    }
   ],
   "source": [
    "def capabilities(type1, type2, advantages = advantages):\n",
    "  \n",
    "    # Offensive Advantages\n",
    "    advantages_o = []\n",
    "    for types in [type1, type2]:\n",
    "        try:\n",
    "            [advantages_o.append(item) for item in list(advantages[advantages.T[types] == 2.0].index.values) if item not in advantages_o]\n",
    "        except:\n",
    "            pass\n",
    "    \n",
    "    # Offensive Disadvantages\n",
    "    disadvantages_o = []\n",
    "    for def_type in advantages.columns:\n",
    "        sub_set = list(advantages.T[[type1, type2]].loc[def_type])\n",
    "        if (sub_set[0] < 1 and  sub_set[1] < 1):\n",
    "            max_weak = max(sub_set)\n",
    "            disadvantages_o.append('%s : %s' %(def_type,max_weak ))\n",
    "        \n",
    "    # Offensive Power\n",
    "    offensive_power = sum([a if a > b else b for a,b in advantages.loc[[type1, type2]].T.values])\n",
    "    \n",
    "    # Defensive Advantages, Disadvantages & Immunities\n",
    "    advantages_d = []\n",
    "    disadvantages_d = []\n",
    "    immunity = []\n",
    "    defensive_power = 0\n",
    "\n",
    "    # If statement for similar types\n",
    "    if type1 == type2:\n",
    "        defensive_power = advantages[type1].sum()\n",
    "        for name, value in zip(advantages[['Fire']].index, advantages[['Fire']].values) :\n",
    "            if value[0] == 0:\n",
    "                immunity.append(name)\n",
    "    \n",
    "            if 0 < value[0] < 1 :\n",
    "                advantages_d.append('%s : %s' %(name, value[0]))\n",
    "    \n",
    "            if value[0] > 1:\n",
    "                disadvantages_d.append('%s : %s' %(name, value[0]))\n",
    "        \n",
    "    else:\n",
    "        for types in advantages.columns:\n",
    "            row = advantages[[type1,type2]].loc[types]\n",
    "            defensive_power += row[0]*row[1]\n",
    "            if 0 < row[0]*row[1] < 1:\n",
    "                advantages_d.append('%s : %s' %(row.name, row[0]*row[1]))\n",
    "\n",
    "            if  row[0]*row[1] > 1:\n",
    "                disadvantages_d.append('%s : %s' %(row.name, row[0]*row[1]))\n",
    "\n",
    "            if row[0]*row[1] == 0:\n",
    "                immunity.append(row.name)\n",
    "    \n",
    "    # dictionary for storing info \n",
    "    capabilitys = {'off_adv'       : advantages_o    , 'count_off_adv' : len(advantages_o),\n",
    "                    'off_disadv'    : disadvantages_o , 'count_off_dis' : len(disadvantages_o),\n",
    "                    'off_pwr'       : offensive_power ,\n",
    "                    'def_adv'       : advantages_d    , 'count_def_adv' : len(advantages_d),\n",
    "                    'def_disadv'    : disadvantages_d , 'count_def_dis' : len(disadvantages_d),\n",
    "                    'def_pwr'       : defensive_power ,\n",
    "                    'immunities'    : immunity        , 'count_imm'     : len(immunity)}\n",
    "    \n",
    "    return capabilitys\n",
    "\n",
    "\n",
    "capabilities('Fire','Flying')"
   ]
  },
  {
   "cell_type": "code",
   "execution_count": 6,
   "metadata": {},
   "outputs": [
    {
     "data": {
      "text/plain": [
       "{'count_def_adv': 6,\n",
       " 'count_def_dis': 3,\n",
       " 'count_imm': 0,\n",
       " 'count_off_adv': 4,\n",
       " 'count_off_dis': 4,\n",
       " 'def_adv': ['Bug : 0.5',\n",
       "  'Fairy : 0.5',\n",
       "  'Fire : 0.5',\n",
       "  'Grass : 0.5',\n",
       "  'Ice : 0.5',\n",
       "  'Steel : 0.5'],\n",
       " 'def_disadv': ['Ground : 2.0', 'Rock : 2.0', 'Water : 2.0'],\n",
       " 'def_pwr': 18.0,\n",
       " 'immunities': [],\n",
       " 'off_adv': ['Bug', 'Grass', 'Ice', 'Steel'],\n",
       " 'off_disadv': ['Dragon : 0.5', 'Fire : 0.5', 'Rock : 0.5', 'Water : 0.5'],\n",
       " 'off_pwr': 20.0}"
      ]
     },
     "execution_count": 6,
     "metadata": {},
     "output_type": "execute_result"
    }
   ],
   "source": [
    "capabilities('Fire','Fire')"
   ]
  },
  {
   "cell_type": "code",
   "execution_count": 7,
   "metadata": {
    "collapsed": true
   },
   "outputs": [],
   "source": [
    "import pickle\n",
    "pickle.dump(capabilities, open( \"./Python-Files/cap_fun.p\", \"wb\" ))"
   ]
  },
  {
   "cell_type": "code",
   "execution_count": 8,
   "metadata": {
    "collapsed": true
   },
   "outputs": [],
   "source": [
    "# Since i was returning the previous as a dict, i needed to convert to a list for my df creation.\n",
    "def cap_to_list(capability):\n",
    "    O_list = [capability['count_def_adv'], capability['count_def_dis'], capability['def_adv'],\n",
    "              capability['count_off_adv'], capability['count_off_dis'], capability['off_adv'],\n",
    "              capability['count_imm'    ], capability['def_disadv'   ], capability['def_pwr'], \n",
    "              capability['immunities'   ], capability['off_disadv'   ], capability['off_pwr']]\n",
    "    return O_list\n"
   ]
  },
  {
   "cell_type": "code",
   "execution_count": null,
   "metadata": {
    "collapsed": true
   },
   "outputs": [],
   "source": []
  },
  {
   "cell_type": "markdown",
   "metadata": {},
   "source": [
    "## What is the Norm?\n",
    "\n",
    "**What is the average Offensive and Defensive Power's of existing Pokemon as well as their distributions?**\n",
    "\n",
    "**On average how many Offensive and Defensive _advantages_ do existing Pokemon have?**\n",
    "\n",
    "**On average how many Offensive and Defensive _disadvantages_ do existing Pokemon have?**"
   ]
  },
  {
   "cell_type": "code",
   "execution_count": 9,
   "metadata": {},
   "outputs": [
    {
     "data": {
      "text/plain": [
       "Index(['Name', 'Type', 'Total', 'HP', 'Attack', 'Defense', 'SpecialAttack',\n",
       "       'SpecialDefense', 'Speed', 'Type_P', 'Type_S', 'Mega', 'legendary',\n",
       "       'GENERATION', 'Stage', 'EVS', 'FAMILY_ID', 'IS STUPID'],\n",
       "      dtype='object')"
      ]
     },
     "execution_count": 9,
     "metadata": {},
     "output_type": "execute_result"
    }
   ],
   "source": [
    "pokemon.columns"
   ]
  },
  {
   "cell_type": "code",
   "execution_count": 10,
   "metadata": {
    "collapsed": true
   },
   "outputs": [],
   "source": [
    "new_cols = ['count_def_adv', 'count_def_dis', 'def_adv', \n",
    "            'count_off_adv', 'count_off_dis', 'off_adv',\n",
    "            'count_imm'    , 'def_disadv'   , 'def_pwr',\n",
    "            'immunities'   , 'off_disadv'   , 'off_pwr']"
   ]
  },
  {
   "cell_type": "code",
   "execution_count": 11,
   "metadata": {
    "collapsed": true
   },
   "outputs": [],
   "source": [
    "# Calculating the Stat Capabilities for all the Pokemon\n",
    "cap_df = pd.DataFrame(columns=new_cols)\n",
    "for index in range(len(pokemon)):\n",
    "    row = pokemon.iloc[index]\n",
    "    #print(row[['Type_P','Type_S']],)\n",
    "    cap_df.loc[len(cap_df)] = cap_to_list(capabilities(*row[['Type_P','Type_S']]))"
   ]
  },
  {
   "cell_type": "code",
   "execution_count": 12,
   "metadata": {},
   "outputs": [
    {
     "data": {
      "text/plain": [
       "(782, 12)"
      ]
     },
     "execution_count": 12,
     "metadata": {},
     "output_type": "execute_result"
    }
   ],
   "source": [
    "cap_df.shape"
   ]
  },
  {
   "cell_type": "code",
   "execution_count": 13,
   "metadata": {},
   "outputs": [
    {
     "data": {
      "text/html": [
       "<div>\n",
       "<style>\n",
       "    .dataframe thead tr:only-child th {\n",
       "        text-align: right;\n",
       "    }\n",
       "\n",
       "    .dataframe thead th {\n",
       "        text-align: left;\n",
       "    }\n",
       "\n",
       "    .dataframe tbody tr th {\n",
       "        vertical-align: top;\n",
       "    }\n",
       "</style>\n",
       "<table border=\"1\" class=\"dataframe\">\n",
       "  <thead>\n",
       "    <tr style=\"text-align: right;\">\n",
       "      <th></th>\n",
       "      <th>count_def_adv</th>\n",
       "      <th>count_def_dis</th>\n",
       "      <th>def_adv</th>\n",
       "      <th>count_off_adv</th>\n",
       "      <th>count_off_dis</th>\n",
       "      <th>off_adv</th>\n",
       "      <th>count_imm</th>\n",
       "      <th>def_disadv</th>\n",
       "      <th>def_pwr</th>\n",
       "      <th>immunities</th>\n",
       "      <th>off_disadv</th>\n",
       "      <th>off_pwr</th>\n",
       "    </tr>\n",
       "  </thead>\n",
       "  <tbody>\n",
       "    <tr>\n",
       "      <th>0</th>\n",
       "      <td>5</td>\n",
       "      <td>4</td>\n",
       "      <td>[Electric : 0.5, Fairy : 0.5, Fighting : 0.5, ...</td>\n",
       "      <td>5</td>\n",
       "      <td>2</td>\n",
       "      <td>[Ground, Rock, Water, Fairy, Grass]</td>\n",
       "      <td>0</td>\n",
       "      <td>[Fire : 2.0, Flying : 2.0, Ice : 2.0, Psychic ...</td>\n",
       "      <td>19.25</td>\n",
       "      <td>[]</td>\n",
       "      <td>[Poison : 0.5, Steel : 0.5]</td>\n",
       "      <td>22.0</td>\n",
       "    </tr>\n",
       "    <tr>\n",
       "      <th>1</th>\n",
       "      <td>5</td>\n",
       "      <td>4</td>\n",
       "      <td>[Electric : 0.5, Fairy : 0.5, Fighting : 0.5, ...</td>\n",
       "      <td>5</td>\n",
       "      <td>2</td>\n",
       "      <td>[Ground, Rock, Water, Fairy, Grass]</td>\n",
       "      <td>0</td>\n",
       "      <td>[Fire : 2.0, Flying : 2.0, Ice : 2.0, Psychic ...</td>\n",
       "      <td>19.25</td>\n",
       "      <td>[]</td>\n",
       "      <td>[Poison : 0.5, Steel : 0.5]</td>\n",
       "      <td>22.0</td>\n",
       "    </tr>\n",
       "  </tbody>\n",
       "</table>\n",
       "</div>"
      ],
      "text/plain": [
       "  count_def_adv count_def_dis  \\\n",
       "0             5             4   \n",
       "1             5             4   \n",
       "\n",
       "                                             def_adv count_off_adv  \\\n",
       "0  [Electric : 0.5, Fairy : 0.5, Fighting : 0.5, ...             5   \n",
       "1  [Electric : 0.5, Fairy : 0.5, Fighting : 0.5, ...             5   \n",
       "\n",
       "  count_off_dis                              off_adv count_imm  \\\n",
       "0             2  [Ground, Rock, Water, Fairy, Grass]         0   \n",
       "1             2  [Ground, Rock, Water, Fairy, Grass]         0   \n",
       "\n",
       "                                          def_disadv  def_pwr immunities  \\\n",
       "0  [Fire : 2.0, Flying : 2.0, Ice : 2.0, Psychic ...    19.25         []   \n",
       "1  [Fire : 2.0, Flying : 2.0, Ice : 2.0, Psychic ...    19.25         []   \n",
       "\n",
       "                    off_disadv  off_pwr  \n",
       "0  [Poison : 0.5, Steel : 0.5]     22.0  \n",
       "1  [Poison : 0.5, Steel : 0.5]     22.0  "
      ]
     },
     "execution_count": 13,
     "metadata": {},
     "output_type": "execute_result"
    }
   ],
   "source": [
    "cap_df.head(2)"
   ]
  },
  {
   "cell_type": "code",
   "execution_count": null,
   "metadata": {
    "collapsed": true
   },
   "outputs": [],
   "source": []
  },
  {
   "cell_type": "code",
   "execution_count": 14,
   "metadata": {
    "collapsed": true
   },
   "outputs": [],
   "source": [
    "# Index needed to be reset as it was set to the pokedex id\n",
    "pokemon.reset_index(inplace = True)"
   ]
  },
  {
   "cell_type": "code",
   "execution_count": 15,
   "metadata": {
    "collapsed": true
   },
   "outputs": [],
   "source": [
    "# Concatting Pokemon DF with the Capabilities DF\n",
    "pokemon2 = pd.concat([pokemon,cap_df], axis =1 )"
   ]
  },
  {
   "cell_type": "code",
   "execution_count": null,
   "metadata": {
    "collapsed": true
   },
   "outputs": [],
   "source": []
  },
  {
   "cell_type": "code",
   "execution_count": 16,
   "metadata": {},
   "outputs": [
    {
     "data": {
      "text/plain": [
       "count_def_adv     object\n",
       "count_def_dis     object\n",
       "def_pwr          float64\n",
       "count_off_adv     object\n",
       "count_off_dis     object\n",
       "off_pwr          float64\n",
       "count_imm         object\n",
       "dtype: object"
      ]
     },
     "execution_count": 16,
     "metadata": {},
     "output_type": "execute_result"
    }
   ],
   "source": [
    "# List of quantitative values I would like to analyze\n",
    "histo_listo = ['count_def_adv','count_def_dis','def_pwr',\n",
    "               'count_off_adv','count_off_dis', 'off_pwr', 'count_imm',]\n",
    "\n",
    "# turns out some of them got interpreted as Objects instead of float.\n",
    "pokemon2[histo_listo].dtypes"
   ]
  },
  {
   "cell_type": "code",
   "execution_count": 17,
   "metadata": {
    "collapsed": true
   },
   "outputs": [],
   "source": [
    "# Casting columns as floats\n",
    "pokemon2['count_def_adv'] = pokemon2['count_def_adv'].astype(float)\n",
    "pokemon2['count_def_dis'] = pokemon2['count_def_dis'].astype(float)\n",
    "pokemon2['count_off_adv'] = pokemon2['count_off_adv'].astype(float)\n",
    "pokemon2['count_off_dis'] = pokemon2['count_off_dis'].astype(float)\n",
    "pokemon2['count_imm']     = pokemon2['count_imm'].astype(float)"
   ]
  },
  {
   "cell_type": "markdown",
   "metadata": {},
   "source": [
    "**Need to Remove Legendaries and Mega Evolutions**"
   ]
  },
  {
   "cell_type": "code",
   "execution_count": 18,
   "metadata": {},
   "outputs": [
    {
     "name": "stdout",
     "output_type": "stream",
     "text": [
      "(782, 31)\n",
      "0    709\n",
      "1     73\n",
      "Name: legendary, dtype: int64\n",
      "0    734\n",
      "1     48\n",
      "Name: Mega, dtype: int64\n"
     ]
    },
    {
     "data": {
      "text/plain": [
       "(667, 31)"
      ]
     },
     "execution_count": 18,
     "metadata": {},
     "output_type": "execute_result"
    }
   ],
   "source": [
    "print(pokemon2.shape)\n",
    "print(pokemon2['legendary'].value_counts())\n",
    "print(pokemon2['Mega'].value_counts())\n",
    "\n",
    "# Givent that there are pokemon like Mega Mewtwo and Mega Requaza that are both Mega and Legendary\n",
    "# there is not a one-to-one tally of all pokemon we'll remove.\n",
    "\n",
    "pokemon3 = pokemon2[(pokemon2['legendary'] ==0) & (pokemon2['Mega'] == 0)]\n",
    "pokemon3.shape"
   ]
  },
  {
   "cell_type": "code",
   "execution_count": null,
   "metadata": {
    "collapsed": true
   },
   "outputs": [],
   "source": []
  },
  {
   "cell_type": "markdown",
   "metadata": {},
   "source": [
    "_If these aren't normally distributed, imma be annoyed._\n",
    "\n",
    "---\n",
    "\n",
    "### Count of Defensive Advantages"
   ]
  },
  {
   "cell_type": "code",
   "execution_count": 19,
   "metadata": {},
   "outputs": [
    {
     "data": {
      "image/png": "[encoded data removed]",
      "text/plain": [
       "<matplotlib.figure.Figure at 0x108660ba8>"
      ]
     },
     "metadata": {},
     "output_type": "display_data"
    }
   ],
   "source": [
    "plt.hist(pokemon3['count_def_adv'], \n",
    "         ec = 'black', # black lines separating bins\n",
    "         bins = int(pokemon3['count_def_adv'].max())) # 1 bin for each value\n",
    "\n",
    "plt.title('Defensive Advantages (Count)')\n",
    "plt.show()"
   ]
  },
  {
   "cell_type": "markdown",
   "metadata": {},
   "source": [
    "6 seems like a very common number of Def Advantages to have, therefore I'd accept new type combos with 6 defensive advantages without any issue, as well as 5 and 4 to move the distribution towards a more consistent left slope.  I would also accept those with 7 advantages, but have to consider other stats to make sure they have a complementary disadvantage (possibly offensively).\n",
    "\n",
    "**Take Aways**\n",
    "- `6`'s are acceptable\n",
    "- `7`'s        would need minor complementary disadvantage.\n",
    "- `8, 9 or 10` would need major complementary disadvantage.(Will probably avoid)\n",
    "- `4` or `5`'s would need minor complementary advantage.\n",
    "- `2` or `3`s  would need major complementary advantage.\n",
    "- `1` or lower would not be advised.  \n",
    "\n",
    "---\n",
    "\n",
    "### Count of Defensive Disadvantages"
   ]
  },
  {
   "cell_type": "code",
   "execution_count": 20,
   "metadata": {},
   "outputs": [
    {
     "data": {
      "image/png": "[encoded data removed]",
      "text/plain": [
       "<matplotlib.figure.Figure at 0x10859a9e8>"
      ]
     },
     "metadata": {},
     "output_type": "display_data"
    }
   ],
   "source": [
    "plt.hist(pokemon3['count_def_dis'],\n",
    "         ec = 'black', \n",
    "         bins = int(pokemon3['count_def_dis'].max()))\n",
    "\n",
    "plt.title('Defensive Disadvantes (Count)')\n",
    "plt.show()"
   ]
  },
  {
   "cell_type": "markdown",
   "metadata": {},
   "source": [
    "Defensive Disadvantages tend to hover around 3, so I would accept most new pairings with 3 defensive disadvantages, but be skeptical about 2 but not opposed to it if the conditions of other stat summaries indicate a greater than normal weakness elsewhere.\n",
    "\n",
    "\n",
    "**Take Aways**\n",
    "- `3`'s are acceptable\n",
    "- `1` or `2`'s need major complementary disadvantage(s).\n",
    "- `4, 5, 6` & `7`'s would need minor complementary advantage(s).\n",
    "\n",
    "---\n",
    "\n",
    "### Count of Offensive Advantages"
   ]
  },
  {
   "cell_type": "code",
   "execution_count": 21,
   "metadata": {},
   "outputs": [
    {
     "data": {
      "image/png": "[encoded data removed]",
      "text/plain": [
       "<matplotlib.figure.Figure at 0x1087c8278>"
      ]
     },
     "metadata": {},
     "output_type": "display_data"
    }
   ],
   "source": [
    "plt.hist(pokemon3['count_off_adv'], \n",
    "         ec = 'black', \n",
    "         bins = int(pokemon3['count_off_adv'].max()))\n",
    "\n",
    "plt.title('Offensive Advantages (Count)')\n",
    "plt.show()"
   ]
  },
  {
   "cell_type": "markdown",
   "metadata": {},
   "source": [
    "Most normal like distribution I have seen so far.  Noticeable gaps I would like to address are the pokémon with only 1 Offensive Advantage.  3 tends to be the most common, but in order to keep normal dist consistency I would also be ok accepting pokémon with 4 offensive advantages.\n",
    "\n",
    "**Take Aways**\n",
    "- `2`, `3` & `4`s are acceptable.\n",
    "- `1`s would need some minor complementary advantage.\n",
    "- `5` & `6`s would need some minor complementary disadvantage.\n",
    "- `7` and `8`s would need a major complementary disadvantage\n",
    "- `0`, Should not appear as this is not possible with combinations that are not pure normal types.\n",
    "\n",
    "_There are a lot of `0`s because Normal type pokémon and normal type moves. (Although most normal types can learn a variety of move types._\n",
    "\n",
    "---\n",
    "\n",
    "### Count of Offensive Disadvantages"
   ]
  },
  {
   "cell_type": "code",
   "execution_count": 22,
   "metadata": {},
   "outputs": [
    {
     "data": {
      "image/png": "[encoded data removed]",
      "text/plain": [
       "<matplotlib.figure.Figure at 0x108a8c358>"
      ]
     },
     "metadata": {},
     "output_type": "display_data"
    }
   ],
   "source": [
    "plt.hist(pokemon3['count_off_dis'],\n",
    "         ec = 'black', \n",
    "         bins = int(pokemon3['count_off_dis'].max()) )\n",
    "\n",
    "plt.title('Offensive Disadvantages (Count)')\n",
    "plt.show()"
   ]
  },
  {
   "cell_type": "markdown",
   "metadata": {},
   "source": [
    "This is a strange distribution... I Think its interesting that there are already so many pokemon who have 0 or 1 offensive disadvantages.  Given that it is uncommon to be at an offensive disadvantage, having a 1 or 2 there doesn't bother me. \n",
    "\n",
    "**Take Aways**\n",
    "- 1,2,3 & 4s would be acceptable.\n",
    "- 0  would require minor complementary disadvantages\n",
    "- 5 & 6 s I would try to avoid as they would require major complementary advantages.\n",
    "\n",
    "_Once again that large block at the end is most likely a result of the normal pokémons. _\n",
    "\n",
    "---\n",
    "\n",
    "### Defensive Power"
   ]
  },
  {
   "cell_type": "code",
   "execution_count": 23,
   "metadata": {},
   "outputs": [
    {
     "data": {
      "image/png": "[encoded data removed]",
      "text/plain": [
       "<matplotlib.figure.Figure at 0x10892c518>"
      ]
     },
     "metadata": {},
     "output_type": "display_data"
    },
    {
     "name": "stdout",
     "output_type": "stream",
     "text": [
      "Defensive Power is the sum of a pokemon's defense multipliers for all attacking types : Lower = Better\n"
     ]
    }
   ],
   "source": [
    "plt.hist(pokemon3['def_pwr'],\n",
    "         ec = 'black', \n",
    "         bins = 17 )\n",
    "plt.title(\"Defensive Power \")\n",
    "plt.show()\n",
    "print(\"Defensive Power is the sum of a pokemon's defense multipliers for all attacking types : Lower = Better\")"
   ]
  },
  {
   "cell_type": "code",
   "execution_count": 24,
   "metadata": {},
   "outputs": [
    {
     "data": {
      "text/plain": [
       "count    667.000000\n",
       "mean      19.060345\n",
       "std        1.911326\n",
       "min       13.250000\n",
       "25%       18.000000\n",
       "50%       18.750000\n",
       "75%       20.000000\n",
       "max       26.000000\n",
       "Name: def_pwr, dtype: float64"
      ]
     },
     "execution_count": 24,
     "metadata": {},
     "output_type": "execute_result"
    }
   ],
   "source": [
    "pokemon3['def_pwr'].describe()"
   ]
  },
  {
   "cell_type": "markdown",
   "metadata": {},
   "source": [
    "Mean and Median are pretty close and seems like a lot exist in that 25% - 50% quartile. I'll utilize the Standard Deviation for this value.\n",
    "\n",
    "Given the skew right, the standard deviation range used on the right will be more lenient.\n",
    "\n",
    "**Take Aways**\n",
    "- Values within 1 standard Deviation(~2) from the rounded mean of 19 are acceptable.\n",
    "    * `17 - 21`\n",
    "- Values between 1 and 2 STDs below the mean would require minor complementary disadvantage(s)\n",
    "    * `15 - 17`\n",
    "- Values greater than 2 STDs below the mean would require major complementary disadvantage(s)\n",
    "    * `< 15`\n",
    "- Values between 1 and 3 STDs above the mean would require minor complementary advantage(s)\n",
    "    * `19 - 23`\n",
    "- Values greater than 3 STDs above the mean would require major complementary advantage(s)\n",
    "    * `> 23`\n",
    "    \n",
    "---\n",
    "\n",
    "### Offensive Power"
   ]
  },
  {
   "cell_type": "code",
   "execution_count": 25,
   "metadata": {},
   "outputs": [
    {
     "data": {
      "image/png": "[encoded data removed]",
      "text/plain": [
       "<matplotlib.figure.Figure at 0x10899d160>"
      ]
     },
     "metadata": {},
     "output_type": "display_data"
    },
    {
     "name": "stdout",
     "output_type": "stream",
     "text": [
      "Offensive Power is the sum of a pokemon's Attack multipliers for all defending types : Higher = Better\n"
     ]
    }
   ],
   "source": [
    "plt.hist(pokemon3['off_pwr'], \n",
    "         ec = 'black', \n",
    "         bins = 20)\n",
    "plt.title(\"Offensive Power\")\n",
    "plt.show()\n",
    "print(\"Offensive Power is the sum of a pokemon's Attack multipliers for all defending types : Higher = Better\")"
   ]
  },
  {
   "cell_type": "code",
   "execution_count": 26,
   "metadata": {},
   "outputs": [
    {
     "data": {
      "text/plain": [
       "count    667.000000\n",
       "mean      20.449025\n",
       "std        2.732648\n",
       "min       16.000000\n",
       "25%       18.000000\n",
       "50%       20.000000\n",
       "75%       23.000000\n",
       "max       27.000000\n",
       "Name: off_pwr, dtype: float64"
      ]
     },
     "execution_count": 26,
     "metadata": {},
     "output_type": "execute_result"
    }
   ],
   "source": [
    "pokemon3['off_pwr'].describe()"
   ]
  },
  {
   "cell_type": "markdown",
   "metadata": {},
   "source": [
    "This distribution seems wildly erratic.  Ideally it would be nice to transform this to some kind of normal distribution.  Those damn normal types are visually ruining the eyes interpretation of the graph.  Having a Normal type attack will total to that 16 offensive power there are so many of.  \n",
    "What else I see is the mean and median as well as mode converging around 20, which is that spike in the middle our eyes get drawn to.  By filling in both sides and accepting more pokemon within 1 STD (~2.5) of the mean (~20.5) we can move this distribution to a more normal one.\n",
    "\n",
    "\n",
    "**Take Aways**\n",
    "- Values within 1 standard Deviation(~2.5) from the rounded mean of 20.5 are acceptable.\n",
    "    * `18 - 23`\n",
    "- Values between 1 and 2 STDs below the mean would require minor complementary advantage(s)\n",
    "    * `15.5 - 18`\n",
    "- Values between 1 and 2 STDs above the mean would require minor complementary disadvantage(s)\n",
    "    * `23 - 25.5`\n",
    "- Values greater than 2 STDs above the mean would require major complementary disadvantage(s)\n",
    "    * `> 25.5`\n",
    "\n",
    "---\n",
    "\n",
    "### Count of Immunities"
   ]
  },
  {
   "cell_type": "code",
   "execution_count": 28,
   "metadata": {},
   "outputs": [
    {
     "data": {
      "image/png": "[encoded data removed]",
      "text/plain": [
       "<matplotlib.figure.Figure at 0x108951080>"
      ]
     },
     "metadata": {},
     "output_type": "display_data"
    }
   ],
   "source": [
    "plt.hist(pokemon3['count_imm'], ec = 'black', bins = 4, )\n",
    "plt.title('Immunities (Count)')\n",
    "plt.show()"
   ]
  },
  {
   "cell_type": "markdown",
   "metadata": {},
   "source": [
    "3 seems to be the extreme, I would like to see who those cases are.\n",
    "\n",
    "**Take Aways**\n",
    "- 0 Immunities are acceptable\n",
    "- 1 Immunity would need a minor complementary disadvantage. \n",
    "- 2+ Immunities would need major complementary disadvantage(s)"
   ]
  },
  {
   "cell_type": "code",
   "execution_count": 29,
   "metadata": {
    "collapsed": true
   },
   "outputs": [],
   "source": [
    "focus_stats = pokemon3[histo_listo].describe()\n",
    "\n",
    "focus_stats.to_csv(\"./Data/focus_stats.csv\",)"
   ]
  },
  {
   "cell_type": "code",
   "execution_count": 30,
   "metadata": {
    "collapsed": true
   },
   "outputs": [],
   "source": [
    "pokemon3.to_csv('./Data/pokemon3')"
   ]
  },
  {
   "cell_type": "code",
   "execution_count": null,
   "metadata": {
    "collapsed": true
   },
   "outputs": [],
   "source": []
  },
  {
   "cell_type": "code",
   "execution_count": null,
   "metadata": {
    "collapsed": true
   },
   "outputs": [],
   "source": []
  },
  {
   "cell_type": "code",
   "execution_count": null,
   "metadata": {
    "collapsed": true
   },
   "outputs": [],
   "source": []
  },
  {
   "cell_type": "code",
   "execution_count": null,
   "metadata": {
    "collapsed": true
   },
   "outputs": [],
   "source": []
  },
  {
   "cell_type": "code",
   "execution_count": null,
   "metadata": {
    "collapsed": true
   },
   "outputs": [],
   "source": []
  },
  {
   "cell_type": "code",
   "execution_count": null,
   "metadata": {
    "collapsed": true
   },
   "outputs": [],
   "source": []
  },
  {
   "cell_type": "code",
   "execution_count": null,
   "metadata": {
    "collapsed": true
   },
   "outputs": [],
   "source": []
  },
  {
   "cell_type": "code",
   "execution_count": null,
   "metadata": {
    "collapsed": true
   },
   "outputs": [],
   "source": []
  }
 ],
 "metadata": {
  "kernelspec": {
   "display_name": "Python 3",
   "language": "python",
   "name": "python3"
  },
  "language_info": {
   "codemirror_mode": {
    "name": "ipython",
    "version": 3
   },
   "file_extension": ".py",
   "mimetype": "text/x-python",
   "name": "python",
   "nbconvert_exporter": "python",
   "pygments_lexer": "ipython3",
   "version": "3.6.3"
  }
 },
 "nbformat": 4,
 "nbformat_minor": 2
}

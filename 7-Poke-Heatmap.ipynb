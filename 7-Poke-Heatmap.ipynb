{
 "cells": [
  {
   "cell_type": "markdown",
   "metadata": {},
   "source": [
    "# Pokémon Heatmap with Logrithmic Shading\n",
    "\n",
    "Trying to use a well made heatmap to gain the same information gained from the previous 17 bar charts.\n",
    "\n",
    "The issue right now is not generating a heatmap, but the way I want the heatmap to shade.  I want the color spectrum to diverge in a logistic format as opposed to a continuous"
   ]
  },
  {
   "cell_type": "code",
   "execution_count": null,
   "metadata": {
    "collapsed": true
   },
   "outputs": [],
   "source": [
    "import pandas as pd\n",
    "import matplotlib.pyplot as plt\n",
    "import seaborn as sns\n",
    "import numpy as np\n",
    "\n",
    "% matplotlib inline"
   ]
  },
  {
   "cell_type": "code",
   "execution_count": null,
   "metadata": {
    "collapsed": true
   },
   "outputs": [],
   "source": [
    "poke_pivot = pd.read_csv('poke_pivot.csv', index_col = 0)\n",
    "advantages = pd.read_csv('advantages.csv', index_col = 0)"
   ]
  },
  {
   "cell_type": "code",
   "execution_count": null,
   "metadata": {
    "collapsed": true
   },
   "outputs": [],
   "source": [
    "poke_palette = { \"Bug\": \"#A8B820\" , \"Dark\"    : \"#705848\" , \"Dragon\" : \"#7038F8\" , \"Electric\": \"#F8D030\" ,\n",
    "              \"Fairy\" : \"#EE99AC\" , \"Fighting\": \"#C03028\" , \"Fire\"   : \"#F08030\" , \"Flying\"  : \"#A890F0\" ,\n",
    "              \"Ghost\" : \"#705898\" , \"Grass\"   : \"#78C850\" , \"Ground\" : \"#E0C068\" , \"Ice\"     : \"#98D8D8\" ,\n",
    "              \"Normal\": \"#A8A878\" , \"Poison\"  : \"#A040A0\" , \"Psychic\": \"#F85888\" , \"Rock\"    : \"#B8A038\" ,\n",
    "              \"Steel\" : \"#B8B8D0\" , \"Water\"   : \"#6890F0\" ,}"
   ]
  },
  {
   "cell_type": "code",
   "execution_count": null,
   "metadata": {},
   "outputs": [],
   "source": [
    "sns.palplot(sns.color_palette(poke_palette.values()));"
   ]
  },
  {
   "cell_type": "code",
   "execution_count": null,
   "metadata": {
    "collapsed": true
   },
   "outputs": [],
   "source": []
  },
  {
   "cell_type": "code",
   "execution_count": null,
   "metadata": {
    "collapsed": true
   },
   "outputs": [],
   "source": [
    "type_by_percent_df = pd.DataFrame( columns = poke_palette.keys())"
   ]
  },
  {
   "cell_type": "code",
   "execution_count": null,
   "metadata": {
    "collapsed": true
   },
   "outputs": [],
   "source": [
    "type_by_percent_df = pd.DataFrame( columns = poke_palette.keys())\n",
    "\n",
    "for rows in poke_palette.keys():\n",
    "    percent_list = [ i/poke_pivot.loc[rows].values[-1] for i in  poke_pivot.loc[rows].values[:-1]]\n",
    "\n",
    "    type_by_percent_df.loc[len(type_by_percent_df)] =  percent_list\n",
    "\n",
    "\n",
    "type_by_percent_df.index = poke_palette.keys()"
   ]
  },
  {
   "cell_type": "code",
   "execution_count": null,
   "metadata": {},
   "outputs": [],
   "source": []
  },
  {
   "cell_type": "code",
   "execution_count": null,
   "metadata": {},
   "outputs": [],
   "source": [
    "f, ax = plt.subplots(figsize=(15, 9))\n",
    "\n",
    "cmap = sns.color_palette('Blues', 100,)\n",
    "\n",
    "sns.heatmap(type_by_percent_df, cmap = cmap);"
   ]
  },
  {
   "cell_type": "markdown",
   "metadata": {},
   "source": [
    "# Logrithmic Shading\n",
    "\n",
    "As we can see from the above Heatmap it is hard to see the densities as the information fed into it was percentages and everything that had a relatively low percent below 30% is very light, and for the most part the only squares that really stand out are the \"pure\" squares; those that are showing the percent of \"Pure\" or \"Single\" Typings.  \n",
    "\n",
    "In order to combat this I thought about exponentials and logarithms and trying to use those to help me shade.  The idea was to make a shading scale that got darker quicker and then much slower.  Think of the 'Law of Diminishing Returns\".  \n",
    "\n",
    "Yes, there are probably some best visualization practices that are being ignored, but it serves my purpose.  And if you're going to get up in a tizzy about it remember you're reading an analysis about Pokémon."
   ]
  },
  {
   "cell_type": "markdown",
   "metadata": {},
   "source": [
    "---\n",
    "**A brief introduction to logs**\n",
    "For those unfamiliar with a logarithm, its somewhat of an inverse of squares.\n",
    "\n",
    "The purpose of logs is to figure out to what power your need to raise a _base_ to in order to get the desired number."
   ]
  },
  {
   "cell_type": "code",
   "execution_count": null,
   "metadata": {},
   "outputs": [],
   "source": [
    "# In order to raise the value of 10 to 10 you need to raise the base 10 to a power of 1\n",
    "np.log10(10)"
   ]
  },
  {
   "cell_type": "code",
   "execution_count": null,
   "metadata": {},
   "outputs": [],
   "source": [
    "# In order to raise the value of 10 to 100 you need to raise the base 10 to a power of 2 (square)\n",
    "np.log10(100)"
   ]
  },
  {
   "cell_type": "code",
   "execution_count": null,
   "metadata": {},
   "outputs": [],
   "source": [
    "# In order to raise the value of 10 to 1000 you need to raise the base 10 to a power of 3 (cube)\n",
    "np.log10(1000)"
   ]
  },
  {
   "cell_type": "code",
   "execution_count": null,
   "metadata": {},
   "outputs": [],
   "source": [
    "# In order to raise the value of 10 to 76 you need to raise the base 10 to a power of ~1.880813\n",
    "np.log10(76)"
   ]
  },
  {
   "cell_type": "code",
   "execution_count": null,
   "metadata": {},
   "outputs": [],
   "source": [
    "# This is me generating log values with a base of 10\n",
    "x = np.logspace(0,2)\n",
    "y = list(range(0,len(x)))\n",
    "plt.scatter([a/100 for a in x ],y)"
   ]
  },
  {
   "cell_type": "markdown",
   "metadata": {},
   "source": [
    "Seaborn uses RGB scales so every color is generated by combining 3 values.  \n",
    "    - A Red Value\n",
    "    - A Green Value\n",
    "    - A Blue Value\n",
    "\n",
    "Typically, these values exist on a 0 to 255 scale where 0 indicates no use of that color and 255 indicates that color's true form.\n",
    "- Seaborn Normalizes these and thus represent them on a scale of 0 to 1."
   ]
  },
  {
   "cell_type": "code",
   "execution_count": null,
   "metadata": {},
   "outputs": [],
   "source": [
    "sns.palplot([[1,0,0],[0,1,0],[0,0,1]])"
   ]
  },
  {
   "cell_type": "markdown",
   "metadata": {},
   "source": [
    "The `log_shade` function will apply the logarithmic shading to produce an array of colors in the theme of diminishing returns."
   ]
  },
  {
   "cell_type": "code",
   "execution_count": null,
   "metadata": {},
   "outputs": [],
   "source": [
    "def log_shade(n = 10):\n",
    "    original_pal = sns.color_palette('Blues', n)\n",
    "    \n",
    "    # original values will be length n of tuples of 3 r, g and b.\n",
    "    \n",
    "    \n",
    "    half_one_weights = [logs - 1 for logs in np.logspace(1  , 0, num = int(n/2), base = 2)]\n",
    "    half_two_weights = [logs - 1 for logs in np.logspace(0, 1  , num = int(n/2), base = 2)]\n",
    "    \n",
    "    weights = half_one_weights+half_two_weights\n",
    "    \n",
    "    \n",
    "    #final_pal = [(r*weights, b*weights ,g*weights ) for r,g,b, in values for weights, values in zip(weights, original_pal)]\n",
    "    \n",
    "    final_pal = []\n",
    "    for w, v in zip(weights, original_pal):\n",
    "\n",
    "        final_pal.append([v[0]*w, v[1]*w, v[2],])\n",
    "    print('Original Shading Palette')\n",
    "    sns.palplot(sns.color_palette('Blues', n))\n",
    "    plt.show()\n",
    "    print('Log Scaled Shading Palette')\n",
    "    sns.palplot(final_pal)\n",
    "    \n",
    "    return final_pal\n",
    "\n",
    "cmap_log = log_shade(n=50)"
   ]
  },
  {
   "cell_type": "code",
   "execution_count": null,
   "metadata": {},
   "outputs": [],
   "source": [
    "f, ax = plt.subplots(figsize=(18, 12))\n",
    "\n",
    "\n",
    "sns.heatmap(type_by_percent_df, cmap = cmap_log);"
   ]
  },
  {
   "cell_type": "markdown",
   "metadata": {},
   "source": [
    "**Disclaimer, Yeah its crude, but it gets what I needed accomplished.  Its much easier to see the type combos where there is a solid relation and those perfectly white spaces that mean there are not combinations.**"
   ]
  },
  {
   "cell_type": "code",
   "execution_count": null,
   "metadata": {
    "collapsed": true
   },
   "outputs": [],
   "source": []
  }
 ],
 "metadata": {
  "kernelspec": {
   "display_name": "Python 3",
   "language": "python",
   "name": "python3"
  },
  "language_info": {
   "codemirror_mode": {
    "name": "ipython",
    "version": 3
   },
   "file_extension": ".py",
   "mimetype": "text/x-python",
   "name": "python",
   "nbconvert_exporter": "python",
   "pygments_lexer": "ipython3",
   "version": "3.6.3"
  }
 },
 "nbformat": 4,
 "nbformat_minor": 2
}

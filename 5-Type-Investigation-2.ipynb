{
 "cells": [
  {
   "cell_type": "markdown",
   "metadata": {},
   "source": [
    "# Type Investigation 2 : Calculating Deviances and Balance Values for Type Sets\n",
    "\n",
    "---\n",
    "\n",
    "In this notebook I'm going to calculate how far type-sets are from the averages as well as the balance values (a value that I have made up based on previous analysis)"
   ]
  },
  {
   "cell_type": "markdown",
   "metadata": {},
   "source": [
    "Given the notes from the Type-Investigation Notebook. I have added a quantified number associated with each Advantage and Disadvantage I'll be looking at. \n",
    "- Negative Numbers are detractors, and result from being weaker than the average or norm.\n",
    "- Positive Numbers are promoters, and result from being stronger than the average or norm.\n",
    "- Zero Values are neutral and indicate that this is representative of the average or norm.\n",
    "\n",
    "Summing these values in the end will result in overall assessment of these new Pokémon types I'm investigating.\n",
    "\n",
    "- Sums around 0 are Acceptable and will be recommended.\n",
    "- Sums much greater than 0 are \"too strong\" and will most likely be not advised.\n",
    "- Sums much less than 0 are \"too weak\" and will most likely be not advised."
   ]
  },
  {
   "cell_type": "code",
   "execution_count": 1,
   "metadata": {},
   "outputs": [],
   "source": [
    "import pickle\n",
    "import pandas as pd\n",
    "import seaborn as sns\n",
    "import matplotlib.pyplot as plt\n",
    "%matplotlib inline\n",
    "\n",
    "poke_pivot = pd.read_csv('Data/poke_pivot.csv',       index_col = 0) \n",
    "advantages = pd.read_csv('Data/advantages.csv',       index_col = 0)\n",
    "pokemon    = pd.read_csv('Data/pokedex_formal_2.csv', index_col = 0)\n",
    "\n",
    "type_recommendations = pickle.load( open( \"./Python-Files/type_i.p\", \"rb\" ) )"
   ]
  },
  {
   "cell_type": "code",
   "execution_count": 2,
   "metadata": {},
   "outputs": [],
   "source": [
    "# same function as before\n",
    "# Using this function on the Types I wanted to Investigate.\n",
    "\n",
    "def capabilities(type1, type2, advantages = advantages):  \n",
    "    # Offensive Advantages\n",
    "    advantages_o = []\n",
    "    for types in [type1, type2]:\n",
    "        try:\n",
    "            [advantages_o.append(item) for item in list(advantages[advantages.T[types] == 2.0].index.values) if item not in advantages_o]\n",
    "        except:\n",
    "            pass    \n",
    "    # Offensive Disadvantages\n",
    "    disadvantages_o = []\n",
    "    for def_type in advantages.columns:\n",
    "        sub_set = list(advantages.T[[type1, type2]].loc[def_type])\n",
    "        if (sub_set[0] < 1 and  sub_set[1] < 1):\n",
    "            max_weak = max(sub_set)\n",
    "            disadvantages_o.append('%s : %s' %(def_type,max_weak ))       \n",
    "    # Offensive Power\n",
    "    offensive_power = sum([a if a > b else b for a,b in advantages.loc[[type1, type2]].T.values])   \n",
    "    # Defensive Advantages, Disadvantages & Immunities\n",
    "    advantages_d = []\n",
    "    disadvantages_d = []\n",
    "    immunity = []\n",
    "    defensive_power = 0\n",
    "    # If statement for similar types\n",
    "    if type1 == type2:\n",
    "        defensive_power = advantages[type1].sum()\n",
    "        for name, value in zip(advantages[['Fire']].index, advantages[['Fire']].values) :\n",
    "            if value[0] == 0:\n",
    "                immunity.append(name)   \n",
    "            if 0 < value[0] < 1 :\n",
    "                advantages_d.append('%s : %s' %(name, value[0]))   \n",
    "            if value[0] > 1:\n",
    "                disadvantages_d.append('%s : %s' %(name, value[0]))       \n",
    "    else:\n",
    "        for types in advantages.columns:\n",
    "            row = advantages[[type1,type2]].loc[types]\n",
    "            defensive_power += row[0]*row[1]\n",
    "            if 0 < row[0]*row[1] < 1:\n",
    "                advantages_d.append('%s : %s' %(row.name, row[0]*row[1]))\n",
    "            if  row[0]*row[1] > 1:\n",
    "                disadvantages_d.append('%s : %s' %(row.name, row[0]*row[1]))\n",
    "            if row[0]*row[1] == 0:\n",
    "                immunity.append(row.name)    \n",
    "    # dictionary for storing info \n",
    "    capabilitys = {'off_adv'       : advantages_o    , 'count_off_adv' : len(advantages_o),\n",
    "                    'off_disadv'    : disadvantages_o , 'count_off_dis' : len(disadvantages_o),\n",
    "                    'off_pwr'       : offensive_power ,\n",
    "                    'def_adv'       : advantages_d    , 'count_def_adv' : len(advantages_d),\n",
    "                    'def_disadv'    : disadvantages_d , 'count_def_dis' : len(disadvantages_d),\n",
    "                    'def_pwr'       : defensive_power ,\n",
    "                    'immunities'    : immunity        , 'count_imm'     : len(immunity)}   \n",
    "    return capabilitys\n",
    "\n",
    "# Same Function to convert output to list\n",
    "def cap_to_list(capability):\n",
    "    O_list = [capability['count_def_adv'], capability['count_def_dis'], capability['def_adv'],\n",
    "              capability['count_off_adv'], capability['count_off_dis'], capability['off_adv'],\n",
    "              capability['count_imm'    ], capability['def_disadv'   ], capability['def_pwr'], \n",
    "              capability['immunities'   ], capability['off_disadv'   ], capability['off_pwr']]\n",
    "    return O_list"
   ]
  },
  {
   "cell_type": "code",
   "execution_count": 3,
   "metadata": {},
   "outputs": [],
   "source": [
    "# Setting all the type-set pairs\n",
    "# utilizing alphabetical order to eliminate redundencies\n",
    "# i.e  (Dark, Ice), (Ice, Dark)\n",
    "investigation_pairs = []\n",
    "for type_name1, type_list in type_recommendations.items():\n",
    "    for type_name2 in type_list:\n",
    "        investigation_pairs.append(tuple(sorted([type_name1, type_name2])))\n",
    "        \n",
    "investigation_set = set(investigation_pairs)"
   ]
  },
  {
   "cell_type": "code",
   "execution_count": 4,
   "metadata": {},
   "outputs": [],
   "source": [
    "# Dict column names\n",
    "new_cols = [ 'type_combo',\n",
    "            'count_def_adv', 'count_def_dis', 'def_adv', \n",
    "            'count_off_adv', 'count_off_dis', 'off_adv',\n",
    "            'count_imm'    , 'def_disadv'   , 'def_pwr',\n",
    "            'immunities'   , 'off_disadv'   , 'off_pwr']\n",
    "\n",
    "#empty dict to fill\n",
    "inv_type_df = pd.DataFrame(columns = new_cols)\n",
    "# filling with list info after passing investigation type_set through the capabilities function\n",
    "for type_set in investigation_set:\n",
    "    cap_list = cap_to_list(capabilities(type_set[0], type_set[1]))\n",
    "    cap_list.insert(0, type_set)\n",
    "    inv_type_df.loc[len(inv_type_df)] = cap_list"
   ]
  },
  {
   "cell_type": "code",
   "execution_count": 5,
   "metadata": {},
   "outputs": [
    {
     "data": {
      "text/html": [
       "<div>\n",
       "<style scoped>\n",
       "    .dataframe tbody tr th:only-of-type {\n",
       "        vertical-align: middle;\n",
       "    }\n",
       "\n",
       "    .dataframe tbody tr th {\n",
       "        vertical-align: top;\n",
       "    }\n",
       "\n",
       "    .dataframe thead th {\n",
       "        text-align: right;\n",
       "    }\n",
       "</style>\n",
       "<table border=\"1\" class=\"dataframe\">\n",
       "  <thead>\n",
       "    <tr style=\"text-align: right;\">\n",
       "      <th></th>\n",
       "      <th>type_combo</th>\n",
       "      <th>count_def_adv</th>\n",
       "      <th>count_def_dis</th>\n",
       "      <th>def_adv</th>\n",
       "      <th>count_off_adv</th>\n",
       "      <th>count_off_dis</th>\n",
       "      <th>off_adv</th>\n",
       "      <th>count_imm</th>\n",
       "      <th>def_disadv</th>\n",
       "      <th>def_pwr</th>\n",
       "      <th>immunities</th>\n",
       "      <th>off_disadv</th>\n",
       "      <th>off_pwr</th>\n",
       "    </tr>\n",
       "  </thead>\n",
       "  <tbody>\n",
       "    <tr>\n",
       "      <th>0</th>\n",
       "      <td>(Electric, Normal)</td>\n",
       "      <td>3</td>\n",
       "      <td>2</td>\n",
       "      <td>[Electric : 0.5, Flying : 0.5, Steel : 0.5]</td>\n",
       "      <td>2</td>\n",
       "      <td>0</td>\n",
       "      <td>[Flying, Water]</td>\n",
       "      <td>1</td>\n",
       "      <td>[Fighting : 2.0, Ground : 2.0]</td>\n",
       "      <td>17.5</td>\n",
       "      <td>[Ghost]</td>\n",
       "      <td>[]</td>\n",
       "      <td>20.0</td>\n",
       "    </tr>\n",
       "    <tr>\n",
       "      <th>1</th>\n",
       "      <td>(Dragon, Fairy)</td>\n",
       "      <td>7</td>\n",
       "      <td>4</td>\n",
       "      <td>[Bug : 0.5, Dark : 0.5, Electric : 0.5, Fighti...</td>\n",
       "      <td>3</td>\n",
       "      <td>1</td>\n",
       "      <td>[Dragon, Dark, Fighting]</td>\n",
       "      <td>1</td>\n",
       "      <td>[Fairy : 2.0, Ice : 2.0, Poison : 2.0, Steel :...</td>\n",
       "      <td>17.5</td>\n",
       "      <td>[Dragon]</td>\n",
       "      <td>[Steel : 0.5]</td>\n",
       "      <td>20.5</td>\n",
       "    </tr>\n",
       "  </tbody>\n",
       "</table>\n",
       "</div>"
      ],
      "text/plain": [
       "           type_combo count_def_adv count_def_dis  \\\n",
       "0  (Electric, Normal)             3             2   \n",
       "1     (Dragon, Fairy)             7             4   \n",
       "\n",
       "                                             def_adv count_off_adv  \\\n",
       "0        [Electric : 0.5, Flying : 0.5, Steel : 0.5]             2   \n",
       "1  [Bug : 0.5, Dark : 0.5, Electric : 0.5, Fighti...             3   \n",
       "\n",
       "  count_off_dis                   off_adv count_imm  \\\n",
       "0             0           [Flying, Water]         1   \n",
       "1             1  [Dragon, Dark, Fighting]         1   \n",
       "\n",
       "                                          def_disadv  def_pwr immunities  \\\n",
       "0                     [Fighting : 2.0, Ground : 2.0]     17.5    [Ghost]   \n",
       "1  [Fairy : 2.0, Ice : 2.0, Poison : 2.0, Steel :...     17.5   [Dragon]   \n",
       "\n",
       "      off_disadv  off_pwr  \n",
       "0             []     20.0  \n",
       "1  [Steel : 0.5]     20.5  "
      ]
     },
     "execution_count": 5,
     "metadata": {},
     "output_type": "execute_result"
    }
   ],
   "source": [
    "inv_type_df.head(2)"
   ]
  },
  {
   "cell_type": "code",
   "execution_count": 6,
   "metadata": {},
   "outputs": [
    {
     "data": {
      "text/html": [
       "<div>\n",
       "<style scoped>\n",
       "    .dataframe tbody tr th:only-of-type {\n",
       "        vertical-align: middle;\n",
       "    }\n",
       "\n",
       "    .dataframe tbody tr th {\n",
       "        vertical-align: top;\n",
       "    }\n",
       "\n",
       "    .dataframe thead th {\n",
       "        text-align: right;\n",
       "    }\n",
       "</style>\n",
       "<table border=\"1\" class=\"dataframe\">\n",
       "  <thead>\n",
       "    <tr style=\"text-align: right;\">\n",
       "      <th></th>\n",
       "      <th>count_def_adv</th>\n",
       "      <th>count_def_dis</th>\n",
       "      <th>def_pwr</th>\n",
       "      <th>count_off_adv</th>\n",
       "      <th>count_off_dis</th>\n",
       "      <th>off_pwr</th>\n",
       "      <th>count_imm</th>\n",
       "    </tr>\n",
       "  </thead>\n",
       "  <tbody>\n",
       "    <tr>\n",
       "      <th>count</th>\n",
       "      <td>667.000000</td>\n",
       "      <td>667.000000</td>\n",
       "      <td>667.000000</td>\n",
       "      <td>667.000000</td>\n",
       "      <td>667.000000</td>\n",
       "      <td>667.000000</td>\n",
       "      <td>667.000000</td>\n",
       "    </tr>\n",
       "    <tr>\n",
       "      <th>mean</th>\n",
       "      <td>5.308846</td>\n",
       "      <td>3.416792</td>\n",
       "      <td>19.060345</td>\n",
       "      <td>3.850075</td>\n",
       "      <td>2.539730</td>\n",
       "      <td>20.449025</td>\n",
       "      <td>0.440780</td>\n",
       "    </tr>\n",
       "    <tr>\n",
       "      <th>std</th>\n",
       "      <td>1.613744</td>\n",
       "      <td>1.071142</td>\n",
       "      <td>1.911326</td>\n",
       "      <td>1.998876</td>\n",
       "      <td>1.961222</td>\n",
       "      <td>2.732648</td>\n",
       "      <td>0.714932</td>\n",
       "    </tr>\n",
       "    <tr>\n",
       "      <th>min</th>\n",
       "      <td>0.000000</td>\n",
       "      <td>1.000000</td>\n",
       "      <td>13.250000</td>\n",
       "      <td>0.000000</td>\n",
       "      <td>0.000000</td>\n",
       "      <td>16.000000</td>\n",
       "      <td>0.000000</td>\n",
       "    </tr>\n",
       "    <tr>\n",
       "      <th>25%</th>\n",
       "      <td>5.000000</td>\n",
       "      <td>3.000000</td>\n",
       "      <td>18.000000</td>\n",
       "      <td>3.000000</td>\n",
       "      <td>1.000000</td>\n",
       "      <td>18.000000</td>\n",
       "      <td>0.000000</td>\n",
       "    </tr>\n",
       "    <tr>\n",
       "      <th>50%</th>\n",
       "      <td>6.000000</td>\n",
       "      <td>3.000000</td>\n",
       "      <td>18.750000</td>\n",
       "      <td>4.000000</td>\n",
       "      <td>3.000000</td>\n",
       "      <td>20.000000</td>\n",
       "      <td>0.000000</td>\n",
       "    </tr>\n",
       "    <tr>\n",
       "      <th>75%</th>\n",
       "      <td>6.000000</td>\n",
       "      <td>4.000000</td>\n",
       "      <td>20.000000</td>\n",
       "      <td>5.000000</td>\n",
       "      <td>3.000000</td>\n",
       "      <td>23.000000</td>\n",
       "      <td>1.000000</td>\n",
       "    </tr>\n",
       "    <tr>\n",
       "      <th>max</th>\n",
       "      <td>11.000000</td>\n",
       "      <td>7.000000</td>\n",
       "      <td>26.000000</td>\n",
       "      <td>9.000000</td>\n",
       "      <td>7.000000</td>\n",
       "      <td>27.000000</td>\n",
       "      <td>3.000000</td>\n",
       "    </tr>\n",
       "  </tbody>\n",
       "</table>\n",
       "</div>"
      ],
      "text/plain": [
       "       count_def_adv  count_def_dis     def_pwr  count_off_adv  count_off_dis  \\\n",
       "count     667.000000     667.000000  667.000000     667.000000     667.000000   \n",
       "mean        5.308846       3.416792   19.060345       3.850075       2.539730   \n",
       "std         1.613744       1.071142    1.911326       1.998876       1.961222   \n",
       "min         0.000000       1.000000   13.250000       0.000000       0.000000   \n",
       "25%         5.000000       3.000000   18.000000       3.000000       1.000000   \n",
       "50%         6.000000       3.000000   18.750000       4.000000       3.000000   \n",
       "75%         6.000000       4.000000   20.000000       5.000000       3.000000   \n",
       "max        11.000000       7.000000   26.000000       9.000000       7.000000   \n",
       "\n",
       "          off_pwr   count_imm  \n",
       "count  667.000000  667.000000  \n",
       "mean    20.449025    0.440780  \n",
       "std      2.732648    0.714932  \n",
       "min     16.000000    0.000000  \n",
       "25%     18.000000    0.000000  \n",
       "50%     20.000000    0.000000  \n",
       "75%     23.000000    1.000000  \n",
       "max     27.000000    3.000000  "
      ]
     },
     "execution_count": 6,
     "metadata": {},
     "output_type": "execute_result"
    }
   ],
   "source": [
    "focus_stats_summary = pd.read_csv(\"./Data/focus_stats.csv\", index_col = 0)\n",
    "focus_stats_summary"
   ]
  },
  {
   "cell_type": "code",
   "execution_count": 7,
   "metadata": {},
   "outputs": [
    {
     "data": {
      "text/html": [
       "<div>\n",
       "<style scoped>\n",
       "    .dataframe tbody tr th:only-of-type {\n",
       "        vertical-align: middle;\n",
       "    }\n",
       "\n",
       "    .dataframe tbody tr th {\n",
       "        vertical-align: top;\n",
       "    }\n",
       "\n",
       "    .dataframe thead th {\n",
       "        text-align: right;\n",
       "    }\n",
       "</style>\n",
       "<table border=\"1\" class=\"dataframe\">\n",
       "  <thead>\n",
       "    <tr style=\"text-align: right;\">\n",
       "      <th></th>\n",
       "      <th>count_def_adv</th>\n",
       "      <th>count_def_dis</th>\n",
       "      <th>def_pwr</th>\n",
       "      <th>count_off_adv</th>\n",
       "      <th>count_off_dis</th>\n",
       "      <th>off_pwr</th>\n",
       "      <th>count_imm</th>\n",
       "    </tr>\n",
       "  </thead>\n",
       "  <tbody>\n",
       "    <tr>\n",
       "      <th>mean</th>\n",
       "      <td>5.308846</td>\n",
       "      <td>3.416792</td>\n",
       "      <td>19.060345</td>\n",
       "      <td>3.850075</td>\n",
       "      <td>2.539730</td>\n",
       "      <td>20.449025</td>\n",
       "      <td>0.440780</td>\n",
       "    </tr>\n",
       "    <tr>\n",
       "      <th>std</th>\n",
       "      <td>1.613744</td>\n",
       "      <td>1.071142</td>\n",
       "      <td>1.911326</td>\n",
       "      <td>1.998876</td>\n",
       "      <td>1.961222</td>\n",
       "      <td>2.732648</td>\n",
       "      <td>0.714932</td>\n",
       "    </tr>\n",
       "  </tbody>\n",
       "</table>\n",
       "</div>"
      ],
      "text/plain": [
       "      count_def_adv  count_def_dis    def_pwr  count_off_adv  count_off_dis  \\\n",
       "mean       5.308846       3.416792  19.060345       3.850075       2.539730   \n",
       "std        1.613744       1.071142   1.911326       1.998876       1.961222   \n",
       "\n",
       "        off_pwr  count_imm  \n",
       "mean  20.449025   0.440780  \n",
       "std    2.732648   0.714932  "
      ]
     },
     "execution_count": 7,
     "metadata": {},
     "output_type": "execute_result"
    }
   ],
   "source": [
    "focus_stats_summary.loc[['mean','std']]"
   ]
  },
  {
   "cell_type": "markdown",
   "metadata": {},
   "source": [
    "**After looking at the Mean, Median and Mode as well as the distributions from the Type-Investigation Notebooks, I have determined that they will be the neutral values for each attribute of focus.**"
   ]
  },
  {
   "cell_type": "markdown",
   "metadata": {},
   "source": [
    "\n",
    "|Attribute | Measure of Central Tendency | Value |\n",
    "|:----|:----:|----:|\n",
    "|Count Defensive Advantages    | Median/Mode | 6 |\n",
    "|Count Defensive Disadvantages | Median/Mode | 3 |\n",
    "|Defensive Power               | Mean        | 19|\n",
    "|Count Offensive Advantages    | Median/Mean | 4 |\n",
    "| Count Offensive Disadvantages | Median/Mode | 3|\n",
    "| Offensive Power               | Median/Mean | 20|\n",
    "| Count of Immunities           | Mode        | 0|"
   ]
  },
  {
   "cell_type": "markdown",
   "metadata": {},
   "source": [
    "**Balance Value Metric**\n",
    "After analyzing the centrality of the distributions in the previous notebook I identified what I believe to be the best measure of central tendency for each of the stats I'm looking into.  \n",
    "\n",
    "The Balance Value Metric is my 8th engineered feature for this analysis and is the combination of the previous 7 engineered features.  Positive and negative values are assigned to each of the attributes of focus based on how far away the calculate value for the potential type-set is from the point of centrality I have identified. These values are not consistent and instead rely heavily on how I interpreted the histograms on the previous page.  \n",
    "\n",
    "- A sum of these values that is very large is indicative of a type-set that is consistently above the central value (better than average)\n",
    "- A sum of these that is close to zero is indicative of a type-set that is a balance recommendation\n",
    "- A sum of these values that is very small(negative) is indicative of a type-set that is consistently below the central value (worse than average)"
   ]
  },
  {
   "cell_type": "code",
   "execution_count": 8,
   "metadata": {
    "collapsed": true
   },
   "outputs": [],
   "source": [
    "# Count Defensive Advantages\n",
    "def defensive_adv_cal(dav):\n",
    "    if dav   <= 1: # 0,1    : -3\n",
    "        return -5\n",
    "    elif dav <= 3: # 2,3    : -2\n",
    "        return -2\n",
    "    elif dav <= 5: # 4,5    : -1\n",
    "        return -1\n",
    "    elif dav == 6: # 6      : 0\n",
    "        return 0\n",
    "    elif dav <= 7: # 7      : +1\n",
    "        return 1\n",
    "    else:          # 8,9,10 : +3  \n",
    "        return 3\n",
    "\n",
    "# Count Defensive Disadvantages\n",
    "def defensive_dis_cal(ddv):\n",
    "    if ddv  <=  2: # 1,2     : +2\n",
    "        return 2\n",
    "    elif ddv == 3: # 3       :  0\n",
    "        return 0\n",
    "    else:          # 4,5,6,7 : -1\n",
    "        return -1\n",
    "\n",
    "# Count of Offensive Advantages\n",
    "def offensive_adv_cal(oav):\n",
    "    if oav   <= 1:# 1     : -1\n",
    "        return -1\n",
    "    elif oav <= 4:# 2,3,4 :  0\n",
    "        return 0\n",
    "    elif oav <= 6:# 5,6   : +1\n",
    "        return 1\n",
    "    else:         # 7, 8  : +2\n",
    "        return 2\n",
    "\n",
    "# Count of Offensive Disadvantages\n",
    "def offensive_dis_cal(odv):\n",
    "    if odv    < 1:# 0       : +1\n",
    "        return 1\n",
    "    elif odv <= 4:# 1,2,3,4 :  0\n",
    "        return 0\n",
    "    else:         # 5, 6    : -3\n",
    "        return -3\n",
    "\n",
    "# Defensive Power\n",
    "def defensive_pow_cal(dpv):\n",
    "    if dpv   <= 15:#  < 15   : +2\n",
    "        return 2\n",
    "    elif dpv <= 17:# 15 - 17 : +1\n",
    "        return 1\n",
    "    elif dpv <= 21:# 17 - 21 :  0\n",
    "        return 0\n",
    "    elif dpv <= 23:# 21 - 23 : -1\n",
    "        return -1\n",
    "    else:          # > 23    : -2\n",
    "        return -2\n",
    "\n",
    "# Offensive Power\n",
    "def offensive_pow_cal(opv):\n",
    "    if opv    <=  18:# 15.5 - 18 : -1\n",
    "        return -1\n",
    "    elif opv <=   23:# 18 - 23   :  0\n",
    "        return 0\n",
    "    elif opv <= 25.5:# 23 - 25.5 : +1\n",
    "        return 1\n",
    "    else:            # > 25.5    : +2\n",
    "        return 2\n",
    "\n",
    "# Count of Immunites\n",
    "def immunity_cal(civ):\n",
    "    if   civ ==0:# 0 :  0\n",
    "        return 0\n",
    "    elif civ ==1:# 1 : +1\n",
    "        return 1\n",
    "    elif civ ==2:# 2 : +2\n",
    "        return 2\n",
    "    else:        # 3 : +3\n",
    "        return 3\n",
    "\n",
    "\n",
    "\n"
   ]
  },
  {
   "cell_type": "code",
   "execution_count": 9,
   "metadata": {
    "collapsed": true
   },
   "outputs": [],
   "source": [
    "# While Standard deviation is used, this is not standardized given the \n",
    "#CT (Central Tendency) could be Mean, Median or Mode\n",
    "def deviation(value,CT, std):\n",
    "    return abs(value-CT)/std"
   ]
  },
  {
   "cell_type": "code",
   "execution_count": 10,
   "metadata": {},
   "outputs": [
    {
     "data": {
      "text/plain": [
       "0.6"
      ]
     },
     "execution_count": 10,
     "metadata": {},
     "output_type": "execute_result"
    }
   ],
   "source": [
    "# testing the equation\n",
    "deviation(7, 10,5)"
   ]
  },
  {
   "cell_type": "code",
   "execution_count": null,
   "metadata": {
    "collapsed": true
   },
   "outputs": [],
   "source": []
  },
  {
   "cell_type": "code",
   "execution_count": 11,
   "metadata": {
    "collapsed": true
   },
   "outputs": [],
   "source": [
    "#investigation_set\n",
    "invest_dict = {'{} & {}'.format(i_set[0],i_set[1]) : capabilities(i_set[0],i_set[1])  for i_set in investigation_set   }\n"
   ]
  },
  {
   "cell_type": "code",
   "execution_count": 12,
   "metadata": {},
   "outputs": [
    {
     "data": {
      "text/plain": [
       "{'count_def_adv': {'mean': 5.308845577211394, 'std': 1.6137443687056452},\n",
       " 'count_def_dis': {'mean': 3.4167916041979014, 'std': 1.0711420290025904},\n",
       " 'count_imm': {'mean': 0.4407796101949025, 'std': 0.7149316885012674},\n",
       " 'count_off_adv': {'mean': 3.850074962518741, 'std': 1.9988763721473448},\n",
       " 'count_off_dis': {'mean': 2.5397301349325336, 'std': 1.9612220984008133},\n",
       " 'def_pwr': {'mean': 19.060344827586206, 'std': 1.9113257433340884},\n",
       " 'off_pwr': {'mean': 20.44902548725637, 'std': 2.732648471266951}}"
      ]
     },
     "execution_count": 12,
     "metadata": {},
     "output_type": "execute_result"
    }
   ],
   "source": [
    "# Central Values and Distributions for each Focus Attribute\n",
    "fss_dict = focus_stats_summary.loc[['mean','std']].to_dict()\n",
    "fss_dict"
   ]
  },
  {
   "cell_type": "code",
   "execution_count": 13,
   "metadata": {
    "collapsed": true
   },
   "outputs": [],
   "source": [
    "# Calculate difference for each type-set from the central points\n",
    "attributes = ('count_def_adv', 'count_def_dis', 'count_off_adv', 'count_off_dis','count_imm', 'def_pwr', 'off_pwr')\n",
    "\n",
    "\n",
    "\n",
    "for type_set_key in invest_dict.keys():\n",
    "    # Balance Value Calculation\n",
    "    cs = invest_dict[type_set_key]\n",
    "    balance_calc = sum([defensive_adv_cal(cs['count_def_adv']), defensive_dis_cal(cs['count_def_dis']),\n",
    "                        offensive_adv_cal(cs['count_off_adv']), offensive_dis_cal(cs['count_off_dis']),\n",
    "                        defensive_pow_cal(cs['def_pwr'])      , offensive_pow_cal(cs['off_pwr']),\n",
    "                        immunity_cal(cs['count_imm'])])\n",
    "    invest_dict[type_set_key]['balance_value'] = balance_calc\n",
    "    \n",
    "    # Individual deviation calculation\n",
    "    deviation_list = []\n",
    "    for value_name in attributes:\n",
    "        \n",
    "        deviation_list.append(deviation(invest_dict[type_set_key][value_name],\n",
    "                  fss_dict[value_name]['mean'],\n",
    "                  fss_dict[value_name]['std']))\n",
    "    \n",
    "    invest_dict[type_set_key]['deviation_list'] = deviation_list\n",
    "    \n",
    "    \n",
    "    \n"
   ]
  },
  {
   "cell_type": "code",
   "execution_count": 14,
   "metadata": {},
   "outputs": [
    {
     "name": "stdout",
     "output_type": "stream",
     "text": [
      "-1\n",
      "[0.8110612824391729, 1.4780564602402226, 0.07500465740169723, 0.27520092465439344, 0.7822011512420268, 0.49162481889386, 0.20162656065607223]\n"
     ]
    }
   ],
   "source": [
    "print(invest_dict['Bug & Dark']['balance_value'])\n",
    "print(invest_dict['Bug & Dark']['deviation_list'])"
   ]
  },
  {
   "cell_type": "markdown",
   "metadata": {},
   "source": [
    "**I want this same information for existing types as a comparison.**"
   ]
  },
  {
   "cell_type": "code",
   "execution_count": 15,
   "metadata": {
    "collapsed": true
   },
   "outputs": [],
   "source": [
    "pokemon3 = pd.read_csv('./Data/pokemon3', index_col = 0) # read csv\n",
    "\n",
    "existing_types = [eval(typeCombo) for typeCombo in set(pokemon3['Type'].tolist())] # extrac unique typings\n",
    "existing_types = set([tuple(sorted(item)) for item in existing_types])\n",
    "existing_capabilities = {} # convert typing info to dict"
   ]
  },
  {
   "cell_type": "code",
   "execution_count": 16,
   "metadata": {
    "collapsed": true
   },
   "outputs": [],
   "source": [
    "# Running Existing Type sets through the Capabilities Function\n",
    "# ANd adding them to my existin_capabilites Dict\n",
    "for i_set in existing_types:\n",
    "    if len(i_set) == 1:\n",
    "        existing_capabilities[i_set[0]] = capabilities(i_set[0],i_set[0])\n",
    "    else:\n",
    "        existing_capabilities['{} & {}'.format(i_set[0],i_set[1])] = capabilities(i_set[0],i_set[1])\n",
    "        \n",
    "# Getting Balance Value and Deviation list for knowns\n",
    "for type_set_key in existing_capabilities.keys():\n",
    "    cs = existing_capabilities[type_set_key]\n",
    "    balance_calc = sum([defensive_adv_cal(cs['count_def_adv']), defensive_dis_cal(cs['count_def_dis']),\n",
    "                        offensive_adv_cal(cs['count_off_adv']), offensive_dis_cal(cs['count_off_dis']),\n",
    "                        defensive_pow_cal(cs['def_pwr'])      , offensive_pow_cal(cs['off_pwr']),\n",
    "                        immunity_cal(cs['count_imm'])])\n",
    "    existing_capabilities[type_set_key]['balance_value'] = balance_calc\n",
    "    # Get the deviation information for each existin type set\n",
    "    deviation_list = []\n",
    "    for value_name in attributes:\n",
    "        \n",
    "        deviation_list.append(deviation(existing_capabilities[type_set_key][value_name],\n",
    "                  fss_dict[value_name]['mean'],\n",
    "                  fss_dict[value_name]['std']))\n",
    "    \n",
    "    existing_capabilities[type_set_key]['deviation_list'] = deviation_list"
   ]
  },
  {
   "cell_type": "code",
   "execution_count": 17,
   "metadata": {
    "collapsed": true
   },
   "outputs": [],
   "source": [
    "# I've Done it!"
   ]
  },
  {
   "cell_type": "code",
   "execution_count": 18,
   "metadata": {
    "collapsed": true
   },
   "outputs": [],
   "source": [
    "import pickle\n",
    "pickle.dump( invest_dict, open( \"./Python-Files/investigation_dict.p\", \"wb\" ) )\n",
    "pickle.dump( existing_capabilities, open( \"./Python-Files/existing_dict.p\", \"wb\" ) )"
   ]
  },
  {
   "cell_type": "code",
   "execution_count": null,
   "metadata": {
    "collapsed": true
   },
   "outputs": [],
   "source": []
  },
  {
   "cell_type": "code",
   "execution_count": null,
   "metadata": {
    "collapsed": true
   },
   "outputs": [],
   "source": []
  }
 ],
 "metadata": {
  "kernelspec": {
   "display_name": "Python 3",
   "language": "python",
   "name": "python3"
  },
  "language_info": {
   "codemirror_mode": {
    "name": "ipython",
    "version": 3
   },
   "file_extension": ".py",
   "mimetype": "text/x-python",
   "name": "python",
   "nbconvert_exporter": "python",
   "pygments_lexer": "ipython3",
   "version": "3.7.0"
  }
 },
 "nbformat": 4,
 "nbformat_minor": 2
}
